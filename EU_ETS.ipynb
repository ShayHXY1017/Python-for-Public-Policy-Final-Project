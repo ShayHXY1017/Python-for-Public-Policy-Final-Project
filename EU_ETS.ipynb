{
  "nbformat": 4,
  "nbformat_minor": 0,
  "metadata": {
    "colab": {
      "provenance": [],
      "include_colab_link": true
    },
    "kernelspec": {
      "name": "python3",
      "display_name": "Python 3"
    },
    "language_info": {
      "name": "python"
    }
  },
  "cells": [
    {
      "cell_type": "markdown",
      "metadata": {
        "id": "view-in-github",
        "colab_type": "text"
      },
      "source": [
        "<a href=\"https://colab.research.google.com/github/ShayHXY1017/Python-for-Public-Policy-Final-Project/blob/main/EU_ETS.ipynb\" target=\"_parent\"><img src=\"https://colab.research.google.com/assets/colab-badge.svg\" alt=\"Open In Colab\"/></a>"
      ]
    },
    {
      "cell_type": "markdown",
      "source": [
        "Background Intro"
      ],
      "metadata": {
        "id": "Gv7A-JAWvSZh"
      }
    },
    {
      "cell_type": "code",
      "execution_count": 2,
      "metadata": {
        "id": "kOTDxcvau4n3"
      },
      "outputs": [],
      "source": [
        "import pandas as pd\n",
        "import numpy as np\n",
        "import matplotlib.pyplot as plt\n",
        "from scipy import stats"
      ]
    },
    {
      "cell_type": "code",
      "source": [
        "raw = pd.read_csv('/Heat & Transportation Emission Data.csv', encoding='utf-16', sep='\\t')\n",
        "print(raw.head())\n",
        "print(raw.columns)"
      ],
      "metadata": {
        "id": "X8qjh_L01KcM",
        "outputId": "93153906-122b-4b06-c4f1-68be47ed58d5",
        "colab": {
          "base_uri": "https://localhost:8080/"
        }
      },
      "execution_count": 13,
      "outputs": [
        {
          "output_type": "stream",
          "name": "stdout",
          "text": [
            "                                        Sector Name  Gas  Country  \\\n",
            "0  1.A.1.a - Public Electricity and Heat Production  CO₂  Austria   \n",
            "1  1.A.1.a - Public Electricity and Heat Production  CO₂  Austria   \n",
            "2  1.A.1.a - Public Electricity and Heat Production  CO₂  Austria   \n",
            "3  1.A.1.a - Public Electricity and Heat Production  CO₂  Austria   \n",
            "4  1.A.1.a - Public Electricity and Heat Production  CO₂  Austria   \n",
            "\n",
            "   Year of Date           t  \n",
            "0          1990  11,056,340  \n",
            "1          1991  11,767,755  \n",
            "2          1992   8,599,200  \n",
            "3          1993   8,430,924  \n",
            "4          1994   8,712,226  \n",
            "Index(['Sector Name', 'Gas', 'Country', 'Year of Date', 't'], dtype='object')\n"
          ]
        }
      ]
    }
  ]
}